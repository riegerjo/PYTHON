{
 "cells": [
  {
   "cell_type": "markdown",
   "metadata": {},
   "source": [
    "# if,elif,else Statements\n",
    "\n",
    "The following is the basic syntax format for if:\n",
    "\n",
    "    if condition1:\n",
    "        perform action1\n",
    "    elif condition2:\n",
    "        perform action2\n",
    "    else: \n",
    "        perform action 3"
   ]
  },
  {
   "cell_type": "markdown",
   "metadata": {},
   "source": [
    "### Important!\n",
    "\n",
    "\n",
    "Keep a good understanding of how indentation works in Python to maintain the structure and order of your code. "
   ]
  },
  {
   "cell_type": "markdown",
   "metadata": {},
   "source": [
    "## First Example"
   ]
  },
  {
   "cell_type": "markdown",
   "metadata": {},
   "source": [
    "Every statement is executed only if the condition is True!"
   ]
  },
  {
   "cell_type": "code",
   "execution_count": 3,
   "metadata": {},
   "outputs": [
    {
     "name": "stdout",
     "output_type": "stream",
     "text": [
      "It was true!\n"
     ]
    }
   ],
   "source": [
    "if True:\n",
    "    print ('It was true!')"
   ]
  },
  {
   "cell_type": "code",
   "execution_count": 4,
   "metadata": {},
   "outputs": [
    {
     "name": "stdout",
     "output_type": "stream",
     "text": [
      "The condition is True!\n"
     ]
    }
   ],
   "source": [
    "# More realistic\n",
    "if 15 > 5:\n",
    "    print('The condition is True!')"
   ]
  },
  {
   "cell_type": "code",
   "execution_count": 6,
   "metadata": {},
   "outputs": [
    {
     "name": "stdout",
     "output_type": "stream",
     "text": [
      "Let's go surfing!\n"
     ]
    }
   ],
   "source": [
    "sun = True\n",
    "\n",
    "if sun:\n",
    "    print(\"Let's go surfing!\")"
   ]
  },
  {
   "cell_type": "markdown",
   "metadata": {},
   "source": [
    "Let's add in some **else** logic:"
   ]
  },
  {
   "cell_type": "code",
   "execution_count": 7,
   "metadata": {},
   "outputs": [
    {
     "name": "stdout",
     "output_type": "stream",
     "text": [
      "Let's go coding!\n"
     ]
    }
   ],
   "source": [
    "surf = False\n",
    "\n",
    "if surf:\n",
    "    print(\"Let's go surfing!\")\n",
    "else:\n",
    "    print(\"Let's go coding!\")"
   ]
  },
  {
   "cell_type": "markdown",
   "metadata": {},
   "source": [
    "### Multiple Branches (nested structure)\n",
    "\n",
    "Let's put together if, elif, else and check what we can do with them!\n",
    "\n",
    "Here we write a more complex nested structure."
   ]
  },
  {
   "cell_type": "code",
   "execution_count": 10,
   "metadata": {},
   "outputs": [
    {
     "name": "stdout",
     "output_type": "stream",
     "text": [
      "Welcome to Fuerteventura!\n"
     ]
    }
   ],
   "source": [
    "loc = 'Fuerteventura'\n",
    "\n",
    "if loc == 'Italy':\n",
    "    print('Welcome to Italy!')\n",
    "    \n",
    "elif loc == 'USA':\n",
    "    print('Welcome to the USA')\n",
    "\n",
    "elif loc == 'Fuerteventura':\n",
    "    print('Welcome to Fuerteventura!')\n",
    "    \n",
    "else:\n",
    "    print (\"Where are you?\")"
   ]
  },
  {
   "cell_type": "markdown",
   "metadata": {},
   "source": [
    "**Note:** The nested *if* statements are each checked until a True boolean causes the nested code below it to run.\n",
    "\n",
    "### Let's create another simple examples:"
   ]
  },
  {
   "cell_type": "code",
   "execution_count": 11,
   "metadata": {},
   "outputs": [
    {
     "name": "stdout",
     "output_type": "stream",
     "text": [
      "Welcome, what's your name?\n"
     ]
    }
   ],
   "source": [
    "person = 'Carlito'\n",
    "\n",
    "if person == 'Jonny':\n",
    "    print('Welcome Jonny!')\n",
    "else:\n",
    "    print(\"Welcome, what's your name?\") "
   ]
  },
  {
   "cell_type": "code",
   "execution_count": null,
   "metadata": {
    "collapsed": true
   },
   "outputs": [],
   "source": []
  }
 ],
 "metadata": {
  "kernelspec": {
   "display_name": "Python 3",
   "language": "python",
   "name": "python3"
  },
  "language_info": {
   "codemirror_mode": {
    "name": "ipython",
    "version": 3
   },
   "file_extension": ".py",
   "mimetype": "text/x-python",
   "name": "python",
   "nbconvert_exporter": "python",
   "pygments_lexer": "ipython3",
   "version": "3.7.3"
  }
 },
 "nbformat": 4,
 "nbformat_minor": 1
}
