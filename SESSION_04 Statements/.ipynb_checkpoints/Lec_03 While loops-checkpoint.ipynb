{
 "cells": [
  {
   "cell_type": "markdown",
   "metadata": {},
   "source": [
    "# while loops"
   ]
  },
  {
   "cell_type": "markdown",
   "metadata": {},
   "source": [
    "### Documentation:"
   ]
  },
  {
   "cell_type": "code",
   "execution_count": 35,
   "metadata": {},
   "outputs": [
    {
     "data": {
      "text/plain": [
       "True"
      ]
     },
     "execution_count": 35,
     "metadata": {},
     "output_type": "execute_result"
    }
   ],
   "source": [
    "import webbrowser\n",
    "url = 'https://www.tutorialspoint.com/python/python_loop_control.htm'\n",
    "webbrowser.open(url)"
   ]
  },
  {
   "cell_type": "markdown",
   "metadata": {
    "collapsed": true
   },
   "source": [
    "The **while** statement in Python is one of most general ways to perform iteration. \n",
    "\n",
    "A **while** statement will repeatedly execute a single statement or group of statements as long as the **condition is true**. The reason it is called a 'loop' is because the code statements are looped through over and over again until the condition is no longer met.\n",
    "\n",
    "The general format of a while loop is:\n",
    "\n",
    "    while condition:\n",
    "        code statement\n",
    "    else:\n",
    "        final code statements"
   ]
  },
  {
   "cell_type": "markdown",
   "metadata": {
    "collapsed": true
   },
   "source": [
    "## Some while loops: "
   ]
  },
  {
   "cell_type": "code",
   "execution_count": 1,
   "metadata": {},
   "outputs": [
    {
     "name": "stdout",
     "output_type": "stream",
     "text": [
      "The number is:  0\n",
      "The number still less than 5, adding 1 unit \n",
      "\n",
      "The number is:  1\n",
      "The number still less than 5, adding 1 unit \n",
      "\n",
      "The number is:  2\n",
      "The number still less than 5, adding 1 unit \n",
      "\n",
      "The number is:  3\n",
      "The number still less than 5, adding 1 unit \n",
      "\n",
      "The number is:  4\n",
      "The number still less than 5, adding 1 unit \n",
      "\n"
     ]
    }
   ],
   "source": [
    "# counter\n",
    "x = 0\n",
    "\n",
    "while x < 5:\n",
    "    print ('The number is: ', x)\n",
    "    print ('The number still less than 5, adding 1 unit', \"\\n\")\n",
    "    x+=1"
   ]
  },
  {
   "cell_type": "markdown",
   "metadata": {},
   "source": [
    "Notice how the while loop kept going until the **True condition was met**, which occurred once x==5. It's important to note that once this occurred the code stopped."
   ]
  },
  {
   "cell_type": "markdown",
   "metadata": {},
   "source": [
    "## Adding some statement\n",
    "\n",
    "#### else"
   ]
  },
  {
   "cell_type": "code",
   "execution_count": 2,
   "metadata": {},
   "outputs": [
    {
     "name": "stdout",
     "output_type": "stream",
     "text": [
      "The number is:  0\n",
      "The number still less than 5, adding 1 unit \n",
      "\n",
      "The number is:  1\n",
      "The number still less than 5, adding 1 unit \n",
      "\n",
      "The number is:  2\n",
      "The number still less than 5, adding 1 unit \n",
      "\n",
      "The number is:  3\n",
      "The number still less than 5, adding 1 unit \n",
      "\n",
      "The number is:  4\n",
      "The number still less than 5, adding 1 unit \n",
      "\n",
      "All Done!\n"
     ]
    }
   ],
   "source": [
    "# counter\n",
    "x = 0\n",
    "\n",
    "# loop\n",
    "while x < 5:\n",
    "    print ('The number is: ', x)\n",
    "    print ('The number still less than 5, adding 1 unit', \"\\n\")\n",
    "    x+=1\n",
    "    \n",
    "else:\n",
    "    print ('All Done!')"
   ]
  },
  {
   "cell_type": "markdown",
   "metadata": {},
   "source": [
    "# break, continue, pass\n",
    "\n",
    "## Important note:\n",
    "### We can use breack, continue and pass both in for loops and in while loops.\n",
    "\n",
    "We can use break, continue, and pass statements in our loops to add additional functionality for various cases. \n",
    "\n",
    "The three statements are defined by:\n",
    "\n",
    "   **break:** Terminates the current loop (when it meets specific conditions) and resumes execution at the next statement.\n",
    "   \n",
    "   **continue:** The continue statement in Python returns the control to the beginning of the while loop.\n",
    "   \n",
    "   **pass:** The pass statement is a null operation; nothing happens when it executes.\n",
    "    \n",
    "    \n",
    "Thinking about **break** and **continue** statements, the general format of the while loop looks like this:\n",
    "\n",
    "    while test: \n",
    "        code statement\n",
    "        if test: \n",
    "            break\n",
    "        if test: \n",
    "            continue \n",
    "     else:\n",
    "        do something else\n",
    "\n",
    "**break** and **continue** statements can appear anywhere inside the loop’s body,but we will usually put them further nested in conjunction with an **if** statement to perform an action based on some condition."
   ]
  },
  {
   "cell_type": "markdown",
   "metadata": {},
   "source": [
    "### Some examples:\n",
    "\n",
    "### continue\n",
    "The **continue** statement in Python returns the control to the **beginning of the while loop**. The continue statement rejects all the remaining statements in the current iteration of the loop and moves the control back to the top of the loop.\n",
    "\n",
    "The **continue** statement can be used in both **while** and **for** loops."
   ]
  },
  {
   "cell_type": "code",
   "execution_count": 24,
   "metadata": {},
   "outputs": [
    {
     "name": "stdout",
     "output_type": "stream",
     "text": [
      "Current Letter : s\n",
      "Current Letter : u\n",
      "Current Letter : r\n",
      "Current Letter : i\n",
      "Current Letter : n\n",
      "Current Letter : g\n"
     ]
    }
   ],
   "source": [
    "# example on for loop\n",
    "for letter in 'surfing':\n",
    "    if letter == 'f':\n",
    "        continue\n",
    "    else:\n",
    "        print ('Current Letter :', letter)"
   ]
  },
  {
   "cell_type": "code",
   "execution_count": 23,
   "metadata": {},
   "outputs": [
    {
     "name": "stdout",
     "output_type": "stream",
     "text": [
      "Current variable value : 1\n",
      "Current variable value : 2\n",
      "Current variable value : 3\n",
      "Current variable value : 4\n",
      "Current variable value : 6\n",
      "Current variable value : 7\n",
      "Current variable value : 8\n",
      "Current variable value : 9\n",
      "Current variable value : 10\n",
      "Good bye!\n"
     ]
    }
   ],
   "source": [
    "# example on while loop\n",
    "\n",
    "# counter\n",
    "var = 0 \n",
    "\n",
    "while var < 10:\n",
    "    var += 1\n",
    "    if var == 5:\n",
    "        continue\n",
    "    else:\n",
    "        print ('Current variable value :', var)\n",
    "    \n",
    "print (\"Good bye!\")"
   ]
  },
  {
   "cell_type": "markdown",
   "metadata": {},
   "source": [
    "Note how the continue statement didn't allow to print var==5 "
   ]
  },
  {
   "cell_type": "markdown",
   "metadata": {},
   "source": [
    "### break\n",
    "\n",
    "The **break** statement in Python terminates the current loop and resumes execution at the next statement. The most common use for break is when some **external condition is triggered requiring a hasty exit from a loop**."
   ]
  },
  {
   "cell_type": "code",
   "execution_count": 21,
   "metadata": {},
   "outputs": [
    {
     "name": "stdout",
     "output_type": "stream",
     "text": [
      "Current Letter : s\n",
      "Current Letter : u\n",
      "Current Letter : r\n"
     ]
    }
   ],
   "source": [
    "# example on for loop\n",
    "for letter in 'surfing':\n",
    "    if letter == 'f':\n",
    "        break\n",
    "    else:\n",
    "        print ('Current Letter :', letter)"
   ]
  },
  {
   "cell_type": "code",
   "execution_count": 22,
   "metadata": {},
   "outputs": [
    {
     "name": "stdout",
     "output_type": "stream",
     "text": [
      "Current variable value : 1\n",
      "Current variable value : 2\n",
      "Current variable value : 3\n",
      "Current variable value : 4\n",
      "Good bye!\n"
     ]
    }
   ],
   "source": [
    "# example on while loop\n",
    "\n",
    "# counter\n",
    "var = 0 \n",
    "\n",
    "while var < 10:\n",
    "    var += 1\n",
    "    if var == 5:\n",
    "        break\n",
    "    else:\n",
    "        print ('Current variable value :', var)\n",
    "\n",
    "print (\"Good bye!\")"
   ]
  },
  {
   "cell_type": "markdown",
   "metadata": {},
   "source": [
    "Note how the code stopped when the condition var == 5 was reached!"
   ]
  },
  {
   "cell_type": "markdown",
   "metadata": {},
   "source": [
    "### pass\n",
    "The **pass** statement in Python is used when a statement is required syntactically but you do not want any command or code to execute.\n",
    "\n",
    "The **pass** statement is popular on managing \"errors\" inside a loop.\n"
   ]
  },
  {
   "cell_type": "code",
   "execution_count": 34,
   "metadata": {},
   "outputs": [
    {
     "name": "stdout",
     "output_type": "stream",
     "text": [
      "Current Letter : s\n",
      "Current Letter : u\n",
      "Current Letter : r\n",
      "This is pass block\n",
      "Current Letter : f\n",
      "Current Letter : i\n",
      "Current Letter : n\n",
      "Current Letter : g\n",
      "Good bye!\n"
     ]
    }
   ],
   "source": [
    "# for loop example\n",
    "for letter in 'surfing': \n",
    "    if letter == 'f':\n",
    "        pass\n",
    "        print ('This is pass block')\n",
    "    print ('Current Letter :', letter)\n",
    "\n",
    "print (\"Good bye!\")"
   ]
  },
  {
   "cell_type": "markdown",
   "metadata": {},
   "source": [
    "# Very important!\n",
    "### Do not run the code below, it create an infinite loop that will never stop unless you stop running your kernel."
   ]
  },
  {
   "cell_type": "code",
   "execution_count": 25,
   "metadata": {},
   "outputs": [
    {
     "ename": "SyntaxError",
     "evalue": "Missing parentheses in call to 'print'. Did you mean print('Uh Oh infinite Loop!')? (<ipython-input-25-f50d776f8386>, line 3)",
     "output_type": "error",
     "traceback": [
      "\u001b[1;36m  File \u001b[1;32m\"<ipython-input-25-f50d776f8386>\"\u001b[1;36m, line \u001b[1;32m3\u001b[0m\n\u001b[1;33m    print 'Uh Oh infinite Loop!'\u001b[0m\n\u001b[1;37m                               ^\u001b[0m\n\u001b[1;31mSyntaxError\u001b[0m\u001b[1;31m:\u001b[0m Missing parentheses in call to 'print'. Did you mean print('Uh Oh infinite Loop!')?\n"
     ]
    }
   ],
   "source": [
    "# DO NOT RUN THIS CODE!!!! \n",
    "while True:\n",
    "    print 'Do not run, it is infinite Loop!'"
   ]
  },
  {
   "cell_type": "code",
   "execution_count": null,
   "metadata": {
    "collapsed": true
   },
   "outputs": [],
   "source": []
  }
 ],
 "metadata": {
  "kernelspec": {
   "display_name": "Python 3",
   "language": "python",
   "name": "python3"
  },
  "language_info": {
   "codemirror_mode": {
    "name": "ipython",
    "version": 3
   },
   "file_extension": ".py",
   "mimetype": "text/x-python",
   "name": "python",
   "nbconvert_exporter": "python",
   "pygments_lexer": "ipython3",
   "version": "3.7.3"
  }
 },
 "nbformat": 4,
 "nbformat_minor": 1
}
