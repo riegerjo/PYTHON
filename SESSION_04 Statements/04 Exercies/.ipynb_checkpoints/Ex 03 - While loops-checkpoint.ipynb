{
 "cells": [
  {
   "cell_type": "markdown",
   "metadata": {
    "collapsed": true
   },
   "source": [
    "# while loops\n",
    "\n",
    "## Exercises\n",
    "Keep in mind the general format of a while loop:\n",
    "\n",
    "    while test:\n",
    "        code statement\n",
    "    else:\n",
    "        final code statements "
   ]
  },
  {
   "cell_type": "markdown",
   "metadata": {},
   "source": [
    "1. Write a simple while loop that prints all numbers from 0 to 8. The loop must stop when the condition == 8. Whrn you print out the results try to use \"string formatting\"."
   ]
  },
  {
   "cell_type": "code",
   "execution_count": 1,
   "metadata": {},
   "outputs": [],
   "source": [
    "# counter\n",
    "\n",
    "\n",
    "# while loop\n"
   ]
  },
  {
   "cell_type": "markdown",
   "metadata": {},
   "source": [
    "2. Write a python while loop that prints all the numbers incremented by two unit. The sequence should be 2,4,6,8,10."
   ]
  },
  {
   "cell_type": "code",
   "execution_count": null,
   "metadata": {},
   "outputs": [],
   "source": [
    "# counter \n",
    "\n",
    "\n",
    "# while loop\n"
   ]
  },
  {
   "cell_type": "markdown",
   "metadata": {},
   "source": [
    "3. Write a while loop that prints out all equal numbers from 77 to 103. Save all the odd numbers into a list, print the list at the end."
   ]
  },
  {
   "cell_type": "code",
   "execution_count": null,
   "metadata": {},
   "outputs": [],
   "source": [
    "# list\n",
    "\n",
    "\n",
    "# counter\n",
    "\n",
    "\n",
    "# while loop\n",
    "\n",
    "\n",
    "\n",
    "# print list\n"
   ]
  },
  {
   "cell_type": "markdown",
   "metadata": {},
   "source": [
    "4. Write a while loop that prints out all numbers **NOT** divisible by 2 and 10 at the same time in the range from 77 to 103. Save the numbers divisible by 2 and 10 into a list."
   ]
  },
  {
   "cell_type": "code",
   "execution_count": 1,
   "metadata": {},
   "outputs": [],
   "source": [
    "# list\n",
    "\n",
    "\n",
    "# counter\n",
    "\n",
    "\n",
    "# while loop\n",
    "\n",
    "\n",
    "    \n",
    "# print list\n"
   ]
  },
  {
   "cell_type": "markdown",
   "metadata": {},
   "source": [
    "5. Write a while loop that goes from 10 to 25. Print out every number, if a number is multiple of 9 break the loop, otherwise continue. "
   ]
  },
  {
   "cell_type": "code",
   "execution_count": 2,
   "metadata": {},
   "outputs": [],
   "source": [
    "# counter\n",
    "\n",
    "\n",
    "# while loop\n",
    "\n"
   ]
  },
  {
   "cell_type": "markdown",
   "metadata": {},
   "source": [
    "6. Use the list below. Write a while loop that prints out whether a number is inside the list or not. **Hint:** Use the min() max() buit-in method to find the min max value inside the list value of the list. E.g *min(list)*"
   ]
  },
  {
   "cell_type": "code",
   "execution_count": 3,
   "metadata": {},
   "outputs": [],
   "source": [
    "# list\n",
    "\n",
    "\n",
    "# counter\n",
    "\n",
    "\n",
    "# while loop\n",
    "\n"
   ]
  },
  {
   "cell_type": "markdown",
   "metadata": {
    "collapsed": true
   },
   "source": [
    "# Nice Job! "
   ]
  },
  {
   "cell_type": "code",
   "execution_count": null,
   "metadata": {},
   "outputs": [],
   "source": []
  },
  {
   "cell_type": "code",
   "execution_count": null,
   "metadata": {},
   "outputs": [],
   "source": []
  }
 ],
 "metadata": {
  "kernelspec": {
   "display_name": "Python 3",
   "language": "python",
   "name": "python3"
  },
  "language_info": {
   "codemirror_mode": {
    "name": "ipython",
    "version": 3
   },
   "file_extension": ".py",
   "mimetype": "text/x-python",
   "name": "python",
   "nbconvert_exporter": "python",
   "pygments_lexer": "ipython3",
   "version": "3.5.4"
  }
 },
 "nbformat": 4,
 "nbformat_minor": 1
}
