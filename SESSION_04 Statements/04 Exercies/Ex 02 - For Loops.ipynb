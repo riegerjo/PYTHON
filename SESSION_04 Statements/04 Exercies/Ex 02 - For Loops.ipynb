{
 "cells": [
  {
   "cell_type": "markdown",
   "metadata": {},
   "source": [
    "# for Loops\n",
    "\n",
    "## Exercises\n",
    "\n",
    "General format for a **for** loop in Python:\n",
    "\n",
    "    for item in object:\n",
    "        statements to do stuff\n",
    "    "
   ]
  },
  {
   "cell_type": "markdown",
   "metadata": {},
   "source": [
    "1. Create a list from 1 to 6. Loop over the list and print every value"
   ]
  },
  {
   "cell_type": "code",
   "execution_count": 1,
   "metadata": {},
   "outputs": [],
   "source": [
    "# list\n",
    "\n",
    "\n",
    "# loop"
   ]
  },
  {
   "cell_type": "markdown",
   "metadata": {},
   "source": [
    "2. Use the list you have created at point 1, loop over it and print the squared value of every element"
   ]
  },
  {
   "cell_type": "code",
   "execution_count": null,
   "metadata": {},
   "outputs": [],
   "source": []
  },
  {
   "cell_type": "markdown",
   "metadata": {},
   "source": [
    "3. Create a list of 4 strings, loop over the list and print the string together with his length.  \n",
    " * E.g: *string:length*\n",
    " \n",
    "**Mandatory:** One string length must be = 5 "
   ]
  },
  {
   "cell_type": "code",
   "execution_count": 1,
   "metadata": {},
   "outputs": [],
   "source": [
    "# list of strings\n",
    "\n",
    "# loop\n"
   ]
  },
  {
   "cell_type": "markdown",
   "metadata": {},
   "source": [
    "3. Use the list you have created at point 3. Loop over it and print whether the string is >5, <5 or equal to 5."
   ]
  },
  {
   "cell_type": "code",
   "execution_count": null,
   "metadata": {},
   "outputs": [],
   "source": []
  },
  {
   "cell_type": "markdown",
   "metadata": {},
   "source": [
    "## Iterating by sequence index\n",
    "\n",
    "4. Use the following list. Loop over it and print every element using the \"indexing\" method. The output should be:\n",
    " * *The animal is: animal name*"
   ]
  },
  {
   "cell_type": "code",
   "execution_count": 3,
   "metadata": {},
   "outputs": [],
   "source": [
    "animals = ['cat', 'dog',  'cow', 'horse','goat']\n",
    "\n",
    "# loop"
   ]
  },
  {
   "cell_type": "markdown",
   "metadata": {},
   "source": [
    "\n",
    "### Modulo\n",
    "The modulo allows us to get the remainder in a division and uses the % symbol.\n",
    "\n",
    "5. Craete a list in range from 1 to 12, loop over it and print out whether a number is equal or odd."
   ]
  },
  {
   "cell_type": "code",
   "execution_count": 4,
   "metadata": {},
   "outputs": [],
   "source": [
    "# list\n",
    "\n",
    "# loop\n"
   ]
  },
  {
   "cell_type": "markdown",
   "metadata": {},
   "source": [
    "6. Use the list below, loop over it and print out the sum of every number. Remember, use a counter outside the loop."
   ]
  },
  {
   "cell_type": "code",
   "execution_count": 5,
   "metadata": {},
   "outputs": [],
   "source": [
    "# list\n",
    "w = [10,20,30,40,50]\n",
    "\n",
    "# counter\n",
    "\n",
    "# loop\n",
    "\n"
   ]
  },
  {
   "cell_type": "markdown",
   "metadata": {},
   "source": [
    "7. Use the two lists below, loop throug both of them and print out whether the sum of the couple of variable is odd or equal."
   ]
  },
  {
   "cell_type": "code",
   "execution_count": 10,
   "metadata": {},
   "outputs": [],
   "source": [
    "# lists\n",
    "w = [1,2,3,4]\n",
    "z = [1,2,3,4]\n",
    "\n",
    "# loops\n",
    "\n",
    "        "
   ]
  },
  {
   "cell_type": "markdown",
   "metadata": {},
   "source": [
    "8. Use the list of tuple below, loop over it and print every single tuple."
   ]
  },
  {
   "cell_type": "code",
   "execution_count": 11,
   "metadata": {},
   "outputs": [],
   "source": [
    "# tuple list\n",
    "t_list = [(5,4),(4,7),(8,10)]\n",
    "\n",
    "# loop\n"
   ]
  },
  {
   "cell_type": "markdown",
   "metadata": {},
   "source": [
    "9. Loop over the list below and print the sum of the **first + second + third** element of every tuple. **Hint:** Tuple unpacking"
   ]
  },
  {
   "cell_type": "code",
   "execution_count": 12,
   "metadata": {},
   "outputs": [],
   "source": [
    "# loop\n"
   ]
  },
  {
   "cell_type": "markdown",
   "metadata": {},
   "source": [
    "10. Loop over the dictionary below and print both key and value "
   ]
  },
  {
   "cell_type": "code",
   "execution_count": 29,
   "metadata": {},
   "outputs": [],
   "source": [
    "dz = {'key1':88,'key2':23,'key3':72, 'key4':66}"
   ]
  },
  {
   "cell_type": "code",
   "execution_count": 13,
   "metadata": {},
   "outputs": [],
   "source": [
    "# dict loop\n"
   ]
  },
  {
   "cell_type": "markdown",
   "metadata": {},
   "source": [
    "11. Loop the **dz** dictionary and print out only the values."
   ]
  },
  {
   "cell_type": "code",
   "execution_count": 14,
   "metadata": {},
   "outputs": [],
   "source": [
    "# loop\n"
   ]
  },
  {
   "cell_type": "markdown",
   "metadata": {},
   "source": [
    "11. Use the **dz** dictionary and the **t_list**. Loop throug both of them and print out the sum of every value of the dictionary with the first element of the tuple."
   ]
  },
  {
   "cell_type": "code",
   "execution_count": 16,
   "metadata": {},
   "outputs": [],
   "source": [
    "dz = {'key1':88,'key2':23,'key3':72, 'key4':66}\n",
    "t_list = [(5,4),(4,7),(8,10)]"
   ]
  },
  {
   "cell_type": "code",
   "execution_count": 18,
   "metadata": {},
   "outputs": [],
   "source": [
    "# loop\n"
   ]
  },
  {
   "cell_type": "markdown",
   "metadata": {},
   "source": [
    "# Congratulation! You did a nice work!"
   ]
  },
  {
   "cell_type": "code",
   "execution_count": null,
   "metadata": {},
   "outputs": [],
   "source": []
  }
 ],
 "metadata": {
  "kernelspec": {
   "display_name": "Python 3",
   "language": "python",
   "name": "python3"
  },
  "language_info": {
   "codemirror_mode": {
    "name": "ipython",
    "version": 3
   },
   "file_extension": ".py",
   "mimetype": "text/x-python",
   "name": "python",
   "nbconvert_exporter": "python",
   "pygments_lexer": "ipython3",
   "version": "3.7.3"
  }
 },
 "nbformat": 4,
 "nbformat_minor": 1
}
