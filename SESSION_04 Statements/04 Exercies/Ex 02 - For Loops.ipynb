{
 "cells": [
  {
   "cell_type": "markdown",
   "metadata": {},
   "source": [
    "# for Loops\n",
    "\n",
    "## Exercises\n",
    "\n",
    "General format for a **for** loop in Python:\n",
    "\n",
    "    for item in object:\n",
    "        statements to do stuff\n",
    "    "
   ]
  },
  {
   "cell_type": "markdown",
   "metadata": {},
   "source": [
    "1. Create a list from 1 to 6. Loop over the list and print every value"
   ]
  },
  {
   "cell_type": "code",
   "execution_count": 1,
   "metadata": {},
   "outputs": [
    {
     "name": "stdout",
     "output_type": "stream",
     "text": [
      "1\n",
      "2\n",
      "3\n",
      "4\n",
      "5\n",
      "6\n"
     ]
    }
   ],
   "source": [
    "# list\n",
    "list = [1,2,3,4,5,6]\n",
    "\n",
    "\n",
    "# loop\n",
    "\n",
    "for i in list:\n",
    "    print(i)"
   ]
  },
  {
   "cell_type": "markdown",
   "metadata": {},
   "source": [
    "2. Use the list you have created at point 1, loop over it and print the squared value of every element"
   ]
  },
  {
   "cell_type": "code",
   "execution_count": 2,
   "metadata": {},
   "outputs": [
    {
     "name": "stdout",
     "output_type": "stream",
     "text": [
      "1\n",
      "4\n",
      "9\n",
      "16\n",
      "25\n",
      "36\n"
     ]
    }
   ],
   "source": [
    "for i in list:\n",
    "    print(i**2)"
   ]
  },
  {
   "cell_type": "markdown",
   "metadata": {},
   "source": [
    "3. Create a list of 4 strings, loop over the list and print the string together with his length.  \n",
    " * E.g: *string:length*\n",
    " \n",
    "**Mandatory:** One string length must be = 5 "
   ]
  },
  {
   "cell_type": "code",
   "execution_count": 17,
   "metadata": {},
   "outputs": [
    {
     "name": "stdout",
     "output_type": "stream",
     "text": [
      "blub\n",
      "4\n",
      "blubbla\n",
      "7\n",
      "blubblablie1\n",
      "12\n",
      "blubblablie1blu\n",
      "15\n"
     ]
    }
   ],
   "source": [
    "# list of strings\n",
    "list = ['blub', 'bla', 'blie1','blu']\n",
    "\n",
    "\n",
    "z=''\n",
    "# loop\n",
    "for i in list:\n",
    "    z=z+i\n",
    "    print(z)\n",
    "    print(len(z))\n",
    "        \n",
    "    "
   ]
  },
  {
   "cell_type": "code",
   "execution_count": 24,
   "metadata": {},
   "outputs": [
    {
     "ename": "TypeError",
     "evalue": "'list' object cannot be interpreted as an integer",
     "output_type": "error",
     "traceback": [
      "\u001b[1;31m---------------------------------------------------------------------------\u001b[0m",
      "\u001b[1;31mTypeError\u001b[0m                                 Traceback (most recent call last)",
      "\u001b[1;32m<ipython-input-24-3201ec33de88>\u001b[0m in \u001b[0;36m<module>\u001b[1;34m\u001b[0m\n\u001b[1;32m----> 1\u001b[1;33m \u001b[0mrange\u001b[0m\u001b[1;33m(\u001b[0m\u001b[0mlist\u001b[0m\u001b[1;33m)\u001b[0m\u001b[1;33m\u001b[0m\u001b[1;33m\u001b[0m\u001b[0m\n\u001b[0m",
      "\u001b[1;31mTypeError\u001b[0m: 'list' object cannot be interpreted as an integer"
     ]
    }
   ],
   "source": []
  },
  {
   "cell_type": "markdown",
   "metadata": {},
   "source": [
    "3. Use the list you have created at point 3. Loop over it and print whether the string is >5, <5 or equal to 5."
   ]
  },
  {
   "cell_type": "code",
   "execution_count": 28,
   "metadata": {},
   "outputs": [
    {
     "name": "stdout",
     "output_type": "stream",
     "text": [
      "<5\n",
      "<5\n",
      "=5\n",
      "<5\n"
     ]
    }
   ],
   "source": [
    "i = 0\n",
    "while i < len(list):\n",
    "    if len(list[i])<5:\n",
    "        print('<5')\n",
    "    elif len(list[i]) == 5:\n",
    "        print('=5')\n",
    "    elif len(list[i]) > 5:\n",
    "        print('>5')    \n",
    "    i = i + 1\n",
    "    "
   ]
  },
  {
   "cell_type": "markdown",
   "metadata": {},
   "source": [
    "## Iterating by sequence index\n",
    "\n",
    "4. Use the following list. Loop over it and print every element using the \"indexing\" method. The output should be:\n",
    " * *The animal is: animal name*"
   ]
  },
  {
   "cell_type": "code",
   "execution_count": 34,
   "metadata": {},
   "outputs": [
    {
     "name": "stdout",
     "output_type": "stream",
     "text": [
      "The animal is: cat\n",
      "The animal is: dog\n",
      "The animal is: cow\n",
      "The animal is: horse\n",
      "The animal is: goat\n"
     ]
    }
   ],
   "source": [
    "animals = ['cat', 'dog',  'cow', 'horse','goat']\n",
    "\n",
    "# loop\n",
    "for i in animals:\n",
    "    print('The animal is:', i)\n",
    "    "
   ]
  },
  {
   "cell_type": "markdown",
   "metadata": {},
   "source": [
    "\n",
    "### Modulo\n",
    "The modulo allows us to get the remainder in a division and uses the % symbol.\n",
    "\n",
    "5. Craete a list in range from 1 to 12, loop over it and print out whether a number is even or odd."
   ]
  },
  {
   "cell_type": "code",
   "execution_count": 45,
   "metadata": {},
   "outputs": [
    {
     "name": "stdout",
     "output_type": "stream",
     "text": [
      "1 :odd\n",
      "2 :even\n",
      "3 :odd\n",
      "4 :even\n",
      "5 :odd\n",
      "6 :even\n",
      "7 :odd\n",
      "8 :even\n",
      "9 :odd\n",
      "10 :even\n",
      "11 :odd\n",
      "12 :even\n"
     ]
    }
   ],
   "source": [
    "# list\n",
    "b = []\n",
    "a = range(1,13)\n",
    "for c in a:\n",
    "    b.append(c)\n",
    "\n",
    "# loop\n",
    "\n",
    "for i in b:\n",
    "    if i % 2 == 0:\n",
    "        print(i, ':even')\n",
    "    elif i % 2 != 0:\n",
    "        print(i,':odd')"
   ]
  },
  {
   "cell_type": "markdown",
   "metadata": {},
   "source": [
    "6. Use the list below, loop over it and print out the sum of every number. Remember, use a counter outside the loop."
   ]
  },
  {
   "cell_type": "code",
   "execution_count": 47,
   "metadata": {},
   "outputs": [
    {
     "name": "stdout",
     "output_type": "stream",
     "text": [
      "10\n",
      "30\n",
      "60\n",
      "100\n",
      "150\n"
     ]
    }
   ],
   "source": [
    "# list\n",
    "w = [10,20,30,40,50]\n",
    "\n",
    "counter = 0\n",
    "# counter\n",
    "for i in w:\n",
    "    counter = counter + i\n",
    "    print(counter)\n",
    "# loop\n",
    "\n"
   ]
  },
  {
   "cell_type": "markdown",
   "metadata": {},
   "source": [
    "7. Use the two lists below, loop throug both of them and print out whether the sum of the couple of variable is odd or equal."
   ]
  },
  {
   "cell_type": "code",
   "execution_count": 49,
   "metadata": {},
   "outputs": [
    {
     "name": "stdout",
     "output_type": "stream",
     "text": [
      "2 odd\n",
      "3 odd\n",
      "4 odd\n",
      "5 odd\n",
      "3 odd\n",
      "4 odd\n",
      "5 odd\n",
      "6 odd\n",
      "4 odd\n",
      "5 odd\n",
      "6 odd\n",
      "7 odd\n",
      "5 odd\n",
      "6 odd\n",
      "7 odd\n",
      "8 odd\n"
     ]
    }
   ],
   "source": [
    "# lists\n",
    "w = [1,2,3,4]\n",
    "z = [1,2,3,4]\n",
    "\n",
    "# loops\n",
    "for i in w:\n",
    "    for b in z:\n",
    "        if i + b % 2== 0:\n",
    "            print(i + b, 'even')\n",
    "        elif i + b % 2 != 0:\n",
    "            print(i + b, 'odd')\n",
    "        "
   ]
  },
  {
   "cell_type": "markdown",
   "metadata": {},
   "source": [
    "8. Use the list of tuple below, loop over it and print every single tuple."
   ]
  },
  {
   "cell_type": "code",
   "execution_count": 50,
   "metadata": {},
   "outputs": [
    {
     "name": "stdout",
     "output_type": "stream",
     "text": [
      "(5, 4)\n",
      "(4, 7)\n",
      "(8, 10)\n"
     ]
    }
   ],
   "source": [
    "# tuple list\n",
    "t_list = [(5,4),(4,7),(8,10)]\n",
    "\n",
    "# loop\n",
    "for z in t_list:\n",
    "    print(z)"
   ]
  },
  {
   "cell_type": "markdown",
   "metadata": {},
   "source": [
    "9. Loop over the list above and print the sum of the **first + second** element of every tuple. **Hint:** Tuple unpacking"
   ]
  },
  {
   "cell_type": "code",
   "execution_count": 51,
   "metadata": {},
   "outputs": [
    {
     "name": "stdout",
     "output_type": "stream",
     "text": [
      "9\n",
      "11\n",
      "18\n"
     ]
    }
   ],
   "source": [
    "# loop\n",
    "for z,j in t_list:\n",
    "    print(z+j)"
   ]
  },
  {
   "cell_type": "markdown",
   "metadata": {},
   "source": [
    "10. Loop over the dictionary below and print both key and value "
   ]
  },
  {
   "cell_type": "code",
   "execution_count": 53,
   "metadata": {},
   "outputs": [],
   "source": [
    "dz = {'key1':88,'key2':23,'key3':72, 'key4':66}"
   ]
  },
  {
   "cell_type": "code",
   "execution_count": 54,
   "metadata": {},
   "outputs": [
    {
     "name": "stdout",
     "output_type": "stream",
     "text": [
      "('key1', 88)\n",
      "('key2', 23)\n",
      "('key3', 72)\n",
      "('key4', 66)\n"
     ]
    }
   ],
   "source": [
    "# dict loop\n",
    "for i in dz.items():\n",
    "    print(i)"
   ]
  },
  {
   "cell_type": "markdown",
   "metadata": {},
   "source": [
    "11. Loop the **dz** dictionary and print out only the values."
   ]
  },
  {
   "cell_type": "code",
   "execution_count": 57,
   "metadata": {},
   "outputs": [
    {
     "name": "stdout",
     "output_type": "stream",
     "text": [
      "88\n",
      "23\n",
      "72\n",
      "66\n"
     ]
    }
   ],
   "source": [
    "# loop\n",
    "for i in dz.values():\n",
    "    print(i)"
   ]
  },
  {
   "cell_type": "markdown",
   "metadata": {},
   "source": [
    "11. Use the **dz** dictionary and the **t_list**. Loop throug both of them and print out the sum of every value of the dictionary with the first element of the tuple."
   ]
  },
  {
   "cell_type": "code",
   "execution_count": 16,
   "metadata": {},
   "outputs": [],
   "source": [
    "dz = {'key1':88,'key2':23,'key3':72, 'key4':66}\n",
    "t_list = [(5,4),(4,7),(8,10)]"
   ]
  },
  {
   "cell_type": "code",
   "execution_count": 18,
   "metadata": {},
   "outputs": [],
   "source": [
    "# loop\n",
    "for i in dz.values():\n",
    "    for t in t_list:\n",
    "        "
   ]
  },
  {
   "cell_type": "markdown",
   "metadata": {},
   "source": [
    "# Congratulation! You did a nice work!"
   ]
  },
  {
   "cell_type": "code",
   "execution_count": null,
   "metadata": {},
   "outputs": [],
   "source": []
  }
 ],
 "metadata": {
  "kernelspec": {
   "display_name": "Python 3",
   "language": "python",
   "name": "python3"
  },
  "language_info": {
   "codemirror_mode": {
    "name": "ipython",
    "version": 3
   },
   "file_extension": ".py",
   "mimetype": "text/x-python",
   "name": "python",
   "nbconvert_exporter": "python",
   "pygments_lexer": "ipython3",
   "version": "3.7.3"
  }
 },
 "nbformat": 4,
 "nbformat_minor": 1
}
