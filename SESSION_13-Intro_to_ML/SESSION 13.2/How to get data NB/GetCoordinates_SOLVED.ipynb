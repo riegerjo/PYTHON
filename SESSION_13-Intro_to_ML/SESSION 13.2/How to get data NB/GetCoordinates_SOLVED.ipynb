{
 "cells": [
  {
   "cell_type": "markdown",
   "metadata": {},
   "source": [
    "## This is a Python Exercise with API usage\n",
    "\n",
    "We found interesting API at this link:<br>\n",
    "\n",
    "https://opencagedata.com/api\n",
    "\n",
    "They offer free tokens to call a geographical service:\n",
    "* You can insert coordinates (lat and lon) and get back the name of the place\n",
    "* You can insert the street (address) and get back the (lat, long) coordinates\n",
    "\n",
    "The response is a JSON file you have to parse (parse = decompose and read the single parts)"
   ]
  },
  {
   "cell_type": "code",
   "execution_count": 24,
   "metadata": {},
   "outputs": [],
   "source": [
    "import requests"
   ]
  },
  {
   "cell_type": "code",
   "execution_count": 25,
   "metadata": {},
   "outputs": [],
   "source": [
    "response = requests.get('https://api.opencagedata.com/geocode/v1/json?key=e749528b68514b8b8c5c5df5bdce5030&q=835%20Frank%20Tunnel%20Wrightmouth,%20MI&pretty=1')"
   ]
  },
  {
   "cell_type": "code",
   "execution_count": 26,
   "metadata": {},
   "outputs": [],
   "source": [
    "# Check the status of the response: status 400 means fail, 200 means ok\n",
    "# To do that, read here: https://pypi.org/project/requests/\n",
    "# Don't worry at all if you don't know how to do it, it is completely normal and CodingWaves is here to help you!"
   ]
  },
  {
   "cell_type": "code",
   "execution_count": 27,
   "metadata": {},
   "outputs": [
    {
     "data": {
      "text/plain": [
       "200"
      ]
     },
     "execution_count": 27,
     "metadata": {},
     "output_type": "execute_result"
    }
   ],
   "source": [
    "response.status_code"
   ]
  },
  {
   "cell_type": "code",
   "execution_count": 28,
   "metadata": {},
   "outputs": [
    {
     "data": {
      "text/plain": [
       "200"
      ]
     },
     "execution_count": 28,
     "metadata": {},
     "output_type": "execute_result"
    }
   ],
   "source": [
    "response.status_code"
   ]
  },
  {
   "cell_type": "markdown",
   "metadata": {},
   "source": [
    "Check the type of the response.content. It should be bytes"
   ]
  },
  {
   "cell_type": "code",
   "execution_count": 29,
   "metadata": {},
   "outputs": [
    {
     "data": {
      "text/plain": [
       "bytes"
      ]
     },
     "execution_count": 29,
     "metadata": {},
     "output_type": "execute_result"
    }
   ],
   "source": [
    "type(response.content)"
   ]
  },
  {
   "cell_type": "markdown",
   "metadata": {},
   "source": [
    "Requests library has a very interesting tool: response.json(). Try it and get the json format!"
   ]
  },
  {
   "cell_type": "code",
   "execution_count": 30,
   "metadata": {},
   "outputs": [],
   "source": [
    "# Save the output to variable \"response\"\n",
    "\n",
    "response = response.json()"
   ]
  },
  {
   "cell_type": "code",
   "execution_count": 32,
   "metadata": {},
   "outputs": [
    {
     "data": {
      "text/plain": [
       "{'documentation': 'https://opencagedata.com/api',\n",
       " 'licenses': [{'name': 'see attribution guide',\n",
       "   'url': 'https://opencagedata.com/credits'}],\n",
       " 'rate': {'limit': 2500, 'remaining': 2489, 'reset': 1570060800},\n",
       " 'results': [{'annotations': {'DMS': {'lat': \"44° 15' 1.04400'' N\",\n",
       "     'lng': \"85° 30' 1.18800'' W\"},\n",
       "    'FIPS': {'state': '26'},\n",
       "    'MGRS': '16TFQ1972800766',\n",
       "    'Maidenhead': 'EN74fg90xb',\n",
       "    'Mercator': {'x': -9517853.198, 'y': 5474430.57},\n",
       "    'OSM': {'url': 'https://www.openstreetmap.org/?mlat=44.25029&mlon=-85.50033#map=17/44.25029/-85.50033'},\n",
       "    'UN_M49': {'regions': {'AMERICAS': '019',\n",
       "      'NORTHERN_AMERICA': '021',\n",
       "      'US': '840',\n",
       "      'WORLD': '001'},\n",
       "     'statistical_groupings': ['MEDC']},\n",
       "    'callingcode': 1,\n",
       "    'currency': {'alternate_symbols': ['US$'],\n",
       "     'decimal_mark': '.',\n",
       "     'disambiguate_symbol': 'US$',\n",
       "     'html_entity': '$',\n",
       "     'iso_code': 'USD',\n",
       "     'iso_numeric': '840',\n",
       "     'name': 'United States Dollar',\n",
       "     'smallest_denomination': 1,\n",
       "     'subunit': 'Cent',\n",
       "     'subunit_to_unit': 100,\n",
       "     'symbol': '$',\n",
       "     'symbol_first': 1,\n",
       "     'thousands_separator': ','},\n",
       "    'flag': '🇺🇸',\n",
       "    'geohash': 'dpg5wrs89gvjskc6k6dt',\n",
       "    'qibla': 50,\n",
       "    'roadinfo': {'drive_on': 'right', 'speed_in': 'mph'},\n",
       "    'sun': {'rise': {'apparent': 1570016460,\n",
       "      'astronomical': 1570010640,\n",
       "      'civil': 1570014720,\n",
       "      'nautical': 1570012680},\n",
       "     'set': {'apparent': 1570058340,\n",
       "      'astronomical': 1569977700,\n",
       "      'civil': 1570060080,\n",
       "      'nautical': 1569975660}},\n",
       "    'timezone': {'name': 'America/Detroit',\n",
       "     'now_in_dst': 1,\n",
       "     'offset_sec': -14400,\n",
       "     'offset_string': '-0400',\n",
       "     'short_name': 'EDT'},\n",
       "    'what3words': {'words': 'lamenting.clashes.foolish'}},\n",
       "   'bounds': {'northeast': {'lat': 48.306063, 'lng': -82.122971},\n",
       "    'southwest': {'lat': 41.696118, 'lng': -90.418392}},\n",
       "   'components': {'ISO_3166-1_alpha-2': 'US',\n",
       "    'ISO_3166-1_alpha-3': 'USA',\n",
       "    '_type': 'state',\n",
       "    'continent': 'North America',\n",
       "    'country': 'United States of America',\n",
       "    'country_code': 'us',\n",
       "    'state': 'Michigan',\n",
       "    'state_code': 'MI'},\n",
       "   'confidence': 1,\n",
       "   'formatted': 'MI, United States of America',\n",
       "   'geometry': {'lat': 44.25029, 'lng': -85.50033}}],\n",
       " 'status': {'code': 200, 'message': 'OK'},\n",
       " 'stay_informed': {'blog': 'https://blog.opencagedata.com',\n",
       "  'twitter': 'https://twitter.com/opencagedata'},\n",
       " 'thanks': 'For using an OpenCage API',\n",
       " 'timestamp': {'created_http': 'Wed, 02 Oct 2019 13:55:01 GMT',\n",
       "  'created_unix': 1570024501},\n",
       " 'total_results': 1}"
      ]
     },
     "execution_count": 32,
     "metadata": {},
     "output_type": "execute_result"
    }
   ],
   "source": [
    "# See the content of Response. Cool, you have many information!\n",
    "response"
   ]
  },
  {
   "cell_type": "code",
   "execution_count": 34,
   "metadata": {},
   "outputs": [
    {
     "data": {
      "text/plain": [
       "dict_keys(['documentation', 'licenses', 'rate', 'results', 'status', 'stay_informed', 'thanks', 'timestamp', 'total_results'])"
      ]
     },
     "execution_count": 34,
     "metadata": {},
     "output_type": "execute_result"
    }
   ],
   "source": [
    "# Now, this is EXACTLY like a dictionary. Get all the keys and print them\n",
    "response.keys()"
   ]
  },
  {
   "cell_type": "markdown",
   "metadata": {},
   "source": [
    "Dig into **results** keys..."
   ]
  },
  {
   "cell_type": "code",
   "execution_count": 35,
   "metadata": {},
   "outputs": [
    {
     "data": {
      "text/plain": [
       "[{'annotations': {'DMS': {'lat': \"44° 15' 1.04400'' N\",\n",
       "    'lng': \"85° 30' 1.18800'' W\"},\n",
       "   'FIPS': {'state': '26'},\n",
       "   'MGRS': '16TFQ1972800766',\n",
       "   'Maidenhead': 'EN74fg90xb',\n",
       "   'Mercator': {'x': -9517853.198, 'y': 5474430.57},\n",
       "   'OSM': {'url': 'https://www.openstreetmap.org/?mlat=44.25029&mlon=-85.50033#map=17/44.25029/-85.50033'},\n",
       "   'UN_M49': {'regions': {'AMERICAS': '019',\n",
       "     'NORTHERN_AMERICA': '021',\n",
       "     'US': '840',\n",
       "     'WORLD': '001'},\n",
       "    'statistical_groupings': ['MEDC']},\n",
       "   'callingcode': 1,\n",
       "   'currency': {'alternate_symbols': ['US$'],\n",
       "    'decimal_mark': '.',\n",
       "    'disambiguate_symbol': 'US$',\n",
       "    'html_entity': '$',\n",
       "    'iso_code': 'USD',\n",
       "    'iso_numeric': '840',\n",
       "    'name': 'United States Dollar',\n",
       "    'smallest_denomination': 1,\n",
       "    'subunit': 'Cent',\n",
       "    'subunit_to_unit': 100,\n",
       "    'symbol': '$',\n",
       "    'symbol_first': 1,\n",
       "    'thousands_separator': ','},\n",
       "   'flag': '🇺🇸',\n",
       "   'geohash': 'dpg5wrs89gvjskc6k6dt',\n",
       "   'qibla': 50,\n",
       "   'roadinfo': {'drive_on': 'right', 'speed_in': 'mph'},\n",
       "   'sun': {'rise': {'apparent': 1570016460,\n",
       "     'astronomical': 1570010640,\n",
       "     'civil': 1570014720,\n",
       "     'nautical': 1570012680},\n",
       "    'set': {'apparent': 1570058340,\n",
       "     'astronomical': 1569977700,\n",
       "     'civil': 1570060080,\n",
       "     'nautical': 1569975660}},\n",
       "   'timezone': {'name': 'America/Detroit',\n",
       "    'now_in_dst': 1,\n",
       "    'offset_sec': -14400,\n",
       "    'offset_string': '-0400',\n",
       "    'short_name': 'EDT'},\n",
       "   'what3words': {'words': 'lamenting.clashes.foolish'}},\n",
       "  'bounds': {'northeast': {'lat': 48.306063, 'lng': -82.122971},\n",
       "   'southwest': {'lat': 41.696118, 'lng': -90.418392}},\n",
       "  'components': {'ISO_3166-1_alpha-2': 'US',\n",
       "   'ISO_3166-1_alpha-3': 'USA',\n",
       "   '_type': 'state',\n",
       "   'continent': 'North America',\n",
       "   'country': 'United States of America',\n",
       "   'country_code': 'us',\n",
       "   'state': 'Michigan',\n",
       "   'state_code': 'MI'},\n",
       "  'confidence': 1,\n",
       "  'formatted': 'MI, United States of America',\n",
       "  'geometry': {'lat': 44.25029, 'lng': -85.50033}}]"
      ]
     },
     "execution_count": 35,
     "metadata": {},
     "output_type": "execute_result"
    }
   ],
   "source": [
    "response['results']"
   ]
  },
  {
   "cell_type": "code",
   "execution_count": 46,
   "metadata": {},
   "outputs": [],
   "source": [
    "# Ok, dig deeper...and get lat and lon information\n",
    "lat = response['results'][0]['annotations']['DMS']['lat']\n",
    "lon = response['results'][0]['annotations']['DMS']['lng']"
   ]
  },
  {
   "cell_type": "markdown",
   "metadata": {},
   "source": [
    "## OK!!! Now let's do something more confortable"
   ]
  },
  {
   "cell_type": "markdown",
   "metadata": {},
   "source": [
    "Build a **function** able to take as input the name of the place, and give you back lat and lon"
   ]
  },
  {
   "cell_type": "code",
   "execution_count": 50,
   "metadata": {},
   "outputs": [],
   "source": [
    "def get_lat_lon(name):\n",
    "    response = requests.get('https://api.opencagedata.com/geocode/v1/json?key=e749528b68514b8b8c5c5df5bdce5030&q=' + name + '&pretty=1')\n",
    "    response = response.json()\n",
    "    return (response['results'][0]['annotations']['DMS']['lat'],\n",
    "           response['results'][0]['annotations']['DMS']['lng'])\n",
    "    \n",
    "    "
   ]
  },
  {
   "cell_type": "code",
   "execution_count": 53,
   "metadata": {},
   "outputs": [],
   "source": [
    "lat, lon = get_lat_lon('Duomo di Milano')"
   ]
  }
 ],
 "metadata": {
  "kernelspec": {
   "display_name": "Python 3",
   "language": "python",
   "name": "python3"
  },
  "language_info": {
   "codemirror_mode": {
    "name": "ipython",
    "version": 3
   },
   "file_extension": ".py",
   "mimetype": "text/x-python",
   "name": "python",
   "nbconvert_exporter": "python",
   "pygments_lexer": "ipython3",
   "version": "3.6.5"
  }
 },
 "nbformat": 4,
 "nbformat_minor": 2
}
