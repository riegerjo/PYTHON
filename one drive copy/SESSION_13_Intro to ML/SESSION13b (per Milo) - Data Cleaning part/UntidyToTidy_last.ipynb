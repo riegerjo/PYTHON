{
 "cells": [
  {
   "cell_type": "markdown",
   "metadata": {},
   "source": [
    "# Untidy dataset\n",
    "\n",
    "The dataset manipulation we will see are quite complicated, so we will just have a brief look at them, without going in a deep dive."
   ]
  },
  {
   "cell_type": "code",
   "execution_count": 8,
   "metadata": {},
   "outputs": [
    {
     "name": "stdout",
     "output_type": "stream",
     "text": [
      "   Month  Day measurement  reading\n",
      "0      5    1       Ozone     41.0\n",
      "1      5    2       Ozone     36.0\n",
      "2      5    3       Ozone     12.0\n",
      "3      5    4       Ozone     18.0\n",
      "4      5    5       Ozone      NaN\n",
      "Index(['Month', 'Day', 'measurement', 'reading'], dtype='object')\n"
     ]
    }
   ],
   "source": [
    "# lets look at the dataset\n",
    "import pandas as pd\n",
    "import numpy as np\n",
    "df=pd.read_csv('untidy_airquality.csv')\n",
    "print(df.head())\n",
    "print(df.columns)"
   ]
  },
  {
   "cell_type": "code",
   "execution_count": 3,
   "metadata": {},
   "outputs": [
    {
     "data": {
      "text/html": [
       "<div>\n",
       "<style scoped>\n",
       "    .dataframe tbody tr th:only-of-type {\n",
       "        vertical-align: middle;\n",
       "    }\n",
       "\n",
       "    .dataframe tbody tr th {\n",
       "        vertical-align: top;\n",
       "    }\n",
       "\n",
       "    .dataframe thead th {\n",
       "        text-align: right;\n",
       "    }\n",
       "</style>\n",
       "<table border=\"1\" class=\"dataframe\">\n",
       "  <thead>\n",
       "    <tr style=\"text-align: right;\">\n",
       "      <th>measurement</th>\n",
       "      <th>Month</th>\n",
       "      <th>Day</th>\n",
       "      <th>Ozone</th>\n",
       "      <th>Solar.R</th>\n",
       "      <th>Temp</th>\n",
       "      <th>Wind</th>\n",
       "    </tr>\n",
       "  </thead>\n",
       "  <tbody>\n",
       "    <tr>\n",
       "      <th>0</th>\n",
       "      <td>5</td>\n",
       "      <td>1</td>\n",
       "      <td>41.0</td>\n",
       "      <td>190.0</td>\n",
       "      <td>67.0</td>\n",
       "      <td>7.4</td>\n",
       "    </tr>\n",
       "    <tr>\n",
       "      <th>1</th>\n",
       "      <td>5</td>\n",
       "      <td>2</td>\n",
       "      <td>36.0</td>\n",
       "      <td>118.0</td>\n",
       "      <td>72.0</td>\n",
       "      <td>8.0</td>\n",
       "    </tr>\n",
       "    <tr>\n",
       "      <th>2</th>\n",
       "      <td>5</td>\n",
       "      <td>3</td>\n",
       "      <td>12.0</td>\n",
       "      <td>149.0</td>\n",
       "      <td>74.0</td>\n",
       "      <td>12.6</td>\n",
       "    </tr>\n",
       "    <tr>\n",
       "      <th>3</th>\n",
       "      <td>5</td>\n",
       "      <td>4</td>\n",
       "      <td>18.0</td>\n",
       "      <td>313.0</td>\n",
       "      <td>62.0</td>\n",
       "      <td>11.5</td>\n",
       "    </tr>\n",
       "    <tr>\n",
       "      <th>4</th>\n",
       "      <td>5</td>\n",
       "      <td>5</td>\n",
       "      <td>NaN</td>\n",
       "      <td>NaN</td>\n",
       "      <td>56.0</td>\n",
       "      <td>14.3</td>\n",
       "    </tr>\n",
       "  </tbody>\n",
       "</table>\n",
       "</div>"
      ],
      "text/plain": [
       "measurement  Month  Day  Ozone  Solar.R  Temp  Wind\n",
       "0                5    1   41.0    190.0  67.0   7.4\n",
       "1                5    2   36.0    118.0  72.0   8.0\n",
       "2                5    3   12.0    149.0  74.0  12.6\n",
       "3                5    4   18.0    313.0  62.0  11.5\n",
       "4                5    5    NaN      NaN  56.0  14.3"
      ]
     },
     "execution_count": 3,
     "metadata": {},
     "output_type": "execute_result"
    }
   ],
   "source": [
    "df=df.pivot_table(index=['Month', 'Day'], columns='measurement', values='reading')\n",
    "\n",
    "#del df.index.name\n",
    "df=df.reset_index()\n",
    "\n",
    "df.head()"
   ]
  },
  {
   "cell_type": "code",
   "execution_count": null,
   "metadata": {},
   "outputs": [],
   "source": [
    "# Data set esploration deep dive removed"
   ]
  },
  {
   "cell_type": "markdown",
   "metadata": {},
   "source": [
    "# Missing values\n",
    "Now we will see some methods on how to deal with missing values\n",
    "\n",
    "## Dropping NaN"
   ]
  },
  {
   "cell_type": "code",
   "execution_count": 26,
   "metadata": {},
   "outputs": [
    {
     "name": "stdout",
     "output_type": "stream",
     "text": [
      "   Ozone  Solar.R  Wind  Temp  Month  Day  Humidity\n",
      "0   41.0    190.0   7.4  67.0      5    1      20.0\n",
      "1   36.0    118.0   8.0  72.0      5    2      22.0\n",
      "2   12.0    149.0  12.6  74.0      5    3      13.0\n",
      "3   18.0    313.0  11.5  62.0      5    4      32.0\n",
      "4    NaN      NaN  14.3  56.0      5    5      23.0\n",
      "<class 'pandas.core.frame.DataFrame'>\n",
      "RangeIndex: 153 entries, 0 to 152\n",
      "Data columns (total 7 columns):\n",
      "Ozone       116 non-null float64\n",
      "Solar.R     146 non-null float64\n",
      "Wind        148 non-null float64\n",
      "Temp        148 non-null float64\n",
      "Month       153 non-null int64\n",
      "Day         153 non-null int64\n",
      "Humidity    23 non-null float64\n",
      "dtypes: float64(5), int64(2)\n",
      "memory usage: 8.4 KB\n",
      "None\n"
     ]
    }
   ],
   "source": [
    "df = pd.read_csv('airquality.csv')\n",
    "print(df.head())\n",
    "print(df.info())"
   ]
  },
  {
   "cell_type": "code",
   "execution_count": 27,
   "metadata": {},
   "outputs": [
    {
     "name": "stdout",
     "output_type": "stream",
     "text": [
      "   Ozone  Solar.R  Wind  Temp  Month  Day  Humidity\n",
      "0   41.0    190.0   7.4  67.0      5    1      20.0\n",
      "1   36.0    118.0   8.0  72.0      5    2      22.0\n",
      "2   12.0    149.0  12.6  74.0      5    3      13.0\n",
      "3   18.0    313.0  11.5  62.0      5    4      32.0\n",
      "6   23.0    299.0   8.6  65.0      5    7      56.0\n",
      "<class 'pandas.core.frame.DataFrame'>\n",
      "Int64Index: 17 entries, 0 to 23\n",
      "Data columns (total 7 columns):\n",
      "Ozone       17 non-null float64\n",
      "Solar.R     17 non-null float64\n",
      "Wind        17 non-null float64\n",
      "Temp        17 non-null float64\n",
      "Month       17 non-null int64\n",
      "Day         17 non-null int64\n",
      "Humidity    17 non-null float64\n",
      "dtypes: float64(5), int64(2)\n",
      "memory usage: 1.1 KB\n",
      "None\n"
     ]
    }
   ],
   "source": [
    "# Drop all the rows containing NaN\n",
    "df_no_na=df.dropna() \n",
    "print(df_no_na.head())\n",
    "print(df_no_na.info())\n",
    "\n",
    "#What is the problem here?"
   ]
  },
  {
   "cell_type": "code",
   "execution_count": 30,
   "metadata": {},
   "outputs": [
    {
     "data": {
      "text/html": [
       "<div>\n",
       "<style scoped>\n",
       "    .dataframe tbody tr th:only-of-type {\n",
       "        vertical-align: middle;\n",
       "    }\n",
       "\n",
       "    .dataframe tbody tr th {\n",
       "        vertical-align: top;\n",
       "    }\n",
       "\n",
       "    .dataframe thead th {\n",
       "        text-align: right;\n",
       "    }\n",
       "</style>\n",
       "<table border=\"1\" class=\"dataframe\">\n",
       "  <thead>\n",
       "    <tr style=\"text-align: right;\">\n",
       "      <th></th>\n",
       "      <th>Ozone</th>\n",
       "      <th>Solar.R</th>\n",
       "      <th>Wind</th>\n",
       "      <th>Temp</th>\n",
       "      <th>Month</th>\n",
       "      <th>Day</th>\n",
       "    </tr>\n",
       "  </thead>\n",
       "  <tbody>\n",
       "    <tr>\n",
       "      <th>0</th>\n",
       "      <td>41.0</td>\n",
       "      <td>190.0</td>\n",
       "      <td>7.4</td>\n",
       "      <td>67.0</td>\n",
       "      <td>5</td>\n",
       "      <td>1</td>\n",
       "    </tr>\n",
       "    <tr>\n",
       "      <th>1</th>\n",
       "      <td>36.0</td>\n",
       "      <td>118.0</td>\n",
       "      <td>8.0</td>\n",
       "      <td>72.0</td>\n",
       "      <td>5</td>\n",
       "      <td>2</td>\n",
       "    </tr>\n",
       "    <tr>\n",
       "      <th>2</th>\n",
       "      <td>12.0</td>\n",
       "      <td>149.0</td>\n",
       "      <td>12.6</td>\n",
       "      <td>74.0</td>\n",
       "      <td>5</td>\n",
       "      <td>3</td>\n",
       "    </tr>\n",
       "    <tr>\n",
       "      <th>3</th>\n",
       "      <td>18.0</td>\n",
       "      <td>313.0</td>\n",
       "      <td>11.5</td>\n",
       "      <td>62.0</td>\n",
       "      <td>5</td>\n",
       "      <td>4</td>\n",
       "    </tr>\n",
       "    <tr>\n",
       "      <th>4</th>\n",
       "      <td>NaN</td>\n",
       "      <td>NaN</td>\n",
       "      <td>14.3</td>\n",
       "      <td>56.0</td>\n",
       "      <td>5</td>\n",
       "      <td>5</td>\n",
       "    </tr>\n",
       "  </tbody>\n",
       "</table>\n",
       "</div>"
      ],
      "text/plain": [
       "   Ozone  Solar.R  Wind  Temp  Month  Day\n",
       "0   41.0    190.0   7.4  67.0      5    1\n",
       "1   36.0    118.0   8.0  72.0      5    2\n",
       "2   12.0    149.0  12.6  74.0      5    3\n",
       "3   18.0    313.0  11.5  62.0      5    4\n",
       "4    NaN      NaN  14.3  56.0      5    5"
      ]
     },
     "execution_count": 30,
     "metadata": {},
     "output_type": "execute_result"
    }
   ],
   "source": [
    "new_df=df.drop(['Humidity'], axis=1)\n",
    "new_df.head()"
   ]
  },
  {
   "cell_type": "code",
   "execution_count": 33,
   "metadata": {},
   "outputs": [
    {
     "name": "stdout",
     "output_type": "stream",
     "text": [
      "<class 'pandas.core.frame.DataFrame'>\n",
      "Int64Index: 148 entries, 0 to 152\n",
      "Data columns (total 6 columns):\n",
      "Ozone      114 non-null float64\n",
      "Solar.R    141 non-null float64\n",
      "Wind       143 non-null float64\n",
      "Temp       148 non-null float64\n",
      "Month      148 non-null int64\n",
      "Day        148 non-null int64\n",
      "dtypes: float64(4), int64(2)\n",
      "memory usage: 8.1 KB\n"
     ]
    }
   ],
   "source": [
    "# using subset you can decide to eliminate rows containing NaN on some columns.\n",
    "# you should use this for eliminate rows where the target value is omissing.\n",
    "df_clean_target=new_df.dropna(subset=['Temp'])\n",
    "df_clean_target.info()"
   ]
  },
  {
   "cell_type": "code",
   "execution_count": 43,
   "metadata": {},
   "outputs": [
    {
     "name": "stdout",
     "output_type": "stream",
     "text": [
      "<class 'pandas.core.frame.DataFrame'>\n",
      "Int64Index: 145 entries, 0 to 152\n",
      "Data columns (total 6 columns):\n",
      "Ozone      114 non-null float64\n",
      "Solar.R    140 non-null float64\n",
      "Wind       142 non-null float64\n",
      "Temp       145 non-null float64\n",
      "Month      145 non-null int64\n",
      "Day        145 non-null int64\n",
      "dtypes: float64(4), int64(2)\n",
      "memory usage: 7.9 KB\n"
     ]
    }
   ],
   "source": [
    "# you can decide to mantain the rows where percentage of NaN is low enough\n",
    "# For example if we decide to maintain only rows with only at least 5 non NaN \n",
    "#(so only one NaN for row)\n",
    "your_threshold=5\n",
    " \n",
    "final_dropped=df_clean_target.dropna(thresh=your_threshold)\n",
    "final_dropped.info()"
   ]
  },
  {
   "cell_type": "markdown",
   "metadata": {},
   "source": [
    "## Imputing missing values\n",
    "In case you mantain some missing values, they should be filled\n",
    "Now we will see some of the simplest methods."
   ]
  },
  {
   "cell_type": "code",
   "execution_count": 36,
   "metadata": {},
   "outputs": [
    {
     "name": "stdout",
     "output_type": "stream",
     "text": [
      "   Ozone  Solar.R  Wind  Temp  Month  Day\n",
      "0   41.0    190.0   7.4  67.0      5    1\n",
      "1   36.0    118.0   8.0  72.0      5    2\n",
      "2   12.0    149.0  12.6  74.0      5    3\n",
      "3   18.0    313.0  11.5  62.0      5    4\n",
      "4    NaN      NaN  14.3  56.0      5    5\n",
      "\n",
      "\n",
      " Transformed dataset with the imputed values\n",
      "[[ 41.         190.           7.4         67.           5.\n",
      "    1.        ]\n",
      " [ 36.         118.           8.          72.           5.\n",
      "    2.        ]\n",
      " [ 12.         149.          12.6         74.           5.\n",
      "    3.        ]\n",
      " [ 18.         313.          11.5         62.           5.\n",
      "    4.        ]\n",
      " [ 41.9122807  185.70921986  14.3         56.           5.\n",
      "    5.        ]]\n"
     ]
    }
   ],
   "source": [
    "# NEVER, NEVER infer the taget values in this way.\n",
    "# What I just said? NEVER!\n",
    "\n",
    "#Let's use simple imputer\n",
    "df = final_dropped\n",
    "\n",
    "import numpy as np\n",
    "from sklearn.impute import SimpleImputer\n",
    "#print the head of the original dataset\n",
    "print(df.head())\n",
    "# create an imputation method\n",
    "imp = SimpleImputer(missing_values=np.nan, strategy='mean')\n",
    "# create a new dataframe with the imputed values\n",
    "imputed=imp.fit_transform(df)\n",
    "\n",
    "print('\\n\\n Transformed dataset with the imputed values')\n",
    "# print the head of the new dataframe\n",
    "print(imputed[:5])"
   ]
  },
  {
   "cell_type": "code",
   "execution_count": null,
   "metadata": {},
   "outputs": [],
   "source": [
    "#Obviously I can use also the median.\n",
    "#Try to do it by yourself! (google if necessary)\n",
    "\n",
    "#....."
   ]
  },
  {
   "cell_type": "markdown",
   "metadata": {},
   "source": [
    "### Advanced\n",
    "Do not execute next cell."
   ]
  },
  {
   "cell_type": "code",
   "execution_count": 5,
   "metadata": {},
   "outputs": [
    {
     "name": "stdout",
     "output_type": "stream",
     "text": [
      "Looking in links: https://sklearn-nightly.scdn8.secure.raxcdn.com\n",
      "Requirement already satisfied: scikit-learn in /opt/conda/lib/python3.7/site-packages (0.21.3)\n",
      "Requirement already satisfied: scipy>=0.17.0 in /opt/conda/lib/python3.7/site-packages (from scikit-learn) (1.2.1)\n",
      "Requirement already satisfied: numpy>=1.11.0 in /opt/conda/lib/python3.7/site-packages (from scikit-learn) (1.15.4)\n",
      "Requirement already satisfied: joblib>=0.11 in /opt/conda/lib/python3.7/site-packages (from scikit-learn) (0.14.0)\n",
      "Note: you may need to restart the kernel to use updated packages.\n",
      "0.21.3\n"
     ]
    },
    {
     "data": {
      "text/plain": [
       "array([[ 41.        , 190.        ,   7.4       ,  67.        ,\n",
       "          5.        ,   1.        ],\n",
       "       [ 36.        , 118.        ,   8.        ,  72.        ,\n",
       "          5.        ,   2.        ],\n",
       "       [ 12.        , 149.        ,  12.6       ,  74.        ,\n",
       "          5.        ,   3.        ],\n",
       "       [ 18.        , 313.        ,  11.5       ,  62.        ,\n",
       "          5.        ,   4.        ],\n",
       "       [-12.26562908, 141.91026653,  14.3       ,  56.        ,\n",
       "          5.        ,   5.        ]])"
      ]
     },
     "execution_count": 5,
     "metadata": {},
     "output_type": "execute_result"
    }
   ],
   "source": [
    "# Home works: As said the best way is to infer the missing values using some better algorythms than\n",
    "# the mean and the median.\n",
    "# For example IterativeImputer (that will be in the next release of sklearn) use multiregression.\n",
    "# At the end of this course you will be able to use even more sofisticated methods!\n",
    "\n",
    "# For this we need last versions of\n",
    "%pip install --pre -f https://sklearn-nightly.scdn8.secure.raxcdn.com scikit-learn\n",
    "    \n",
    "\n",
    "import sklearn\n",
    "import pandas as pd\n",
    "print(sklearn.__version__)\n",
    "\n",
    "from sklearn.experimental import enable_iterative_imputer\n",
    "from sklearn.impute import IterativeImputer\n",
    "\n",
    "df = pd.read_csv('airquality.csv')\n",
    "\n",
    "\n",
    "imp = IterativeImputer(max_iter=4, random_state=0)\n",
    "imputed=imp.fit_transform(df)\n",
    "imputed[:5]\n",
    "#df.columns"
   ]
  },
  {
   "cell_type": "markdown",
   "metadata": {},
   "source": [
    "# Use a pipeline\n",
    "As told the best practice is to use a pipeline. \n",
    "\n",
    "And automate all the process as much as you can.\n"
   ]
  },
  {
   "cell_type": "code",
   "execution_count": null,
   "metadata": {},
   "outputs": [],
   "source": [
    "# Example on how to create a pipeline for the numerical columns\n",
    "#split the dataset in tran and test\n",
    "df_train=new_df.sample(frac=0.8,random_state=200) #random state is a seed value\n",
    "df_test=new_df.drop(df_train.index)\n",
    "\n",
    "#\n"
   ]
  },
  {
   "cell_type": "code",
   "execution_count": 76,
   "metadata": {},
   "outputs": [
    {
     "name": "stdout",
     "output_type": "stream",
     "text": [
      "<class 'pandas.core.frame.DataFrame'>\n",
      "Int64Index: 122 entries, 48 to 123\n",
      "Data columns (total 6 columns):\n",
      "Ozone      122 non-null float64\n",
      "Solar.R    122 non-null float64\n",
      "Wind       122 non-null float64\n",
      "Temp       122 non-null float64\n",
      "Month      122 non-null int64\n",
      "Day        122 non-null int64\n",
      "dtypes: float64(4), int64(2)\n",
      "memory usage: 6.7 KB\n"
     ]
    }
   ],
   "source": [
    "from sklearn.pipeline import Pipeline\n",
    "from sklearn.compose import ColumnTransformer \n",
    "from sklearn.impute import SimpleImputer\n",
    "from sklearn.preprocessing import StandardScaler \n",
    "# simple imputer step\n",
    "num_si_step = ('si', SimpleImputer(strategy='mean'))\n",
    "# standard scaler step.... I am presenting here just to see how everything can be combined\n",
    "num_ss_step = ('ss', StandardScaler())\n",
    "# combine all the numerical steps\n",
    "num_steps = [num_si_step, num_ss_step] \n",
    "# create the pipeline for the numerical steps\n",
    "num_pipe = Pipeline(num_steps)\n",
    "# define the numerical columns that you want to process with the pipeline\n",
    "num_cols=['Ozone', 'Solar.R', 'Temp', 'Wind']\n",
    "# create the parameter list for the function\n",
    "num_transformers = [('num', num_pipe, num_cols)]\n",
    "# create the processing function\n",
    "ct = ColumnTransformer(transformers=num_transformers)\n",
    "# impute and transform the numerical columns you defined and store in X_num_transformed\n",
    "X_num_transformed = ct.fit_transform(df_train)\n",
    "# X_num_transformed is now a matrix, no more a dataframe\n",
    "# Now we have to substitute the transformed column into the original dataset\n",
    "df_train_clean=df_train\n",
    "df_train_clean[num_cols]=X_num_transformed\n",
    "df_train_clean.info()"
   ]
  },
  {
   "cell_type": "code",
   "execution_count": 78,
   "metadata": {},
   "outputs": [
    {
     "name": "stdout",
     "output_type": "stream",
     "text": [
      "<class 'pandas.core.frame.DataFrame'>\n",
      "Int64Index: 31 entries, 1 to 150\n",
      "Data columns (total 6 columns):\n",
      "Ozone      31 non-null float64\n",
      "Solar.R    31 non-null float64\n",
      "Wind       31 non-null float64\n",
      "Temp       31 non-null float64\n",
      "Month      31 non-null int64\n",
      "Day        31 non-null int64\n",
      "dtypes: float64(4), int64(2)\n",
      "memory usage: 1.7 KB\n"
     ]
    }
   ],
   "source": [
    "X_num_transformed=ct.transform(df_test)\n",
    "df_test_clean=df_test\n",
    "df_test_clean[num_cols]=X_num_transformed\n",
    "df_test_clean.info()"
   ]
  },
  {
   "cell_type": "markdown",
   "metadata": {},
   "source": [
    "### Categorical variables"
   ]
  },
  {
   "cell_type": "code",
   "execution_count": 55,
   "metadata": {},
   "outputs": [
    {
     "data": {
      "text/html": [
       "<div>\n",
       "<style scoped>\n",
       "    .dataframe tbody tr th:only-of-type {\n",
       "        vertical-align: middle;\n",
       "    }\n",
       "\n",
       "    .dataframe tbody tr th {\n",
       "        vertical-align: top;\n",
       "    }\n",
       "\n",
       "    .dataframe thead th {\n",
       "        text-align: right;\n",
       "    }\n",
       "</style>\n",
       "<table border=\"1\" class=\"dataframe\">\n",
       "  <thead>\n",
       "    <tr style=\"text-align: right;\">\n",
       "      <th></th>\n",
       "      <th>Martial art</th>\n",
       "      <th>Kicks</th>\n",
       "      <th>Aerial</th>\n",
       "    </tr>\n",
       "  </thead>\n",
       "  <tbody>\n",
       "    <tr>\n",
       "      <th>0</th>\n",
       "      <td>Kung_Fu</td>\n",
       "      <td>Yes</td>\n",
       "      <td>Yes</td>\n",
       "    </tr>\n",
       "    <tr>\n",
       "      <th>1</th>\n",
       "      <td>Box</td>\n",
       "      <td>No</td>\n",
       "      <td>No</td>\n",
       "    </tr>\n",
       "    <tr>\n",
       "      <th>2</th>\n",
       "      <td>Tai_chi</td>\n",
       "      <td>NA</td>\n",
       "      <td>No</td>\n",
       "    </tr>\n",
       "    <tr>\n",
       "      <th>3</th>\n",
       "      <td>Karate</td>\n",
       "      <td>Yes</td>\n",
       "      <td>Few</td>\n",
       "    </tr>\n",
       "    <tr>\n",
       "      <th>4</th>\n",
       "      <td>Wing-Chu</td>\n",
       "      <td>NA</td>\n",
       "      <td>Few</td>\n",
       "    </tr>\n",
       "    <tr>\n",
       "      <th>5</th>\n",
       "      <td>Capoeria</td>\n",
       "      <td>Yes</td>\n",
       "      <td>Yes</td>\n",
       "    </tr>\n",
       "  </tbody>\n",
       "</table>\n",
       "</div>"
      ],
      "text/plain": [
       "  Martial art Kicks Aerial\n",
       "0     Kung_Fu   Yes    Yes\n",
       "1         Box    No     No\n",
       "2     Tai_chi    NA     No\n",
       "3      Karate   Yes    Few\n",
       "4    Wing-Chu    NA    Few\n",
       "5    Capoeria   Yes    Yes"
      ]
     },
     "execution_count": 55,
     "metadata": {},
     "output_type": "execute_result"
    }
   ],
   "source": [
    "#Let's create an other toy dataset\n",
    "df = pd.DataFrame({'Martial art': ['Kung_Fu', 'Box', 'Tai_chi', 'Karate', 'Wing-Chu','Capoeria'],\n",
    "                   'Kicks': ['Yes','No' , 'NA', 'Yes', 'NA','Yes'],\n",
    "                   'Aerial': ['Yes', 'No','No', 'Few', 'Few', 'Yes']})\n",
    "\n",
    "\n",
    "df\n"
   ]
  },
  {
   "cell_type": "code",
   "execution_count": 56,
   "metadata": {},
   "outputs": [
    {
     "data": {
      "text/plain": [
       "array([['Kung_Fu', 'Yes', 'Yes'],\n",
       "       ['Box', 'No', 'No'],\n",
       "       ['Tai_chi', 'MISSING', 'No'],\n",
       "       ['Karate', 'Yes', 'Few'],\n",
       "       ['Wing-Chu', 'MISSING', 'Few'],\n",
       "       ['Capoeria', 'Yes', 'Yes']], dtype=object)"
      ]
     },
     "execution_count": 56,
     "metadata": {},
     "output_type": "execute_result"
    }
   ],
   "source": [
    "# Impute missing values with constant \n",
    "imp = SimpleImputer(missing_values='NA', strategy='constant',\n",
    "                   fill_value='MISSING')\n",
    "imputed=imp.fit_transform(df)\n",
    "\n",
    "imputed"
   ]
  },
  {
   "cell_type": "code",
   "execution_count": 58,
   "metadata": {},
   "outputs": [
    {
     "data": {
      "text/plain": [
       "array([['Kung_Fu', 'Yes', 'Yes'],\n",
       "       ['Box', 'No', 'No'],\n",
       "       ['Tai_chi', 'Yes', 'No'],\n",
       "       ['Karate', 'Yes', 'Few'],\n",
       "       ['Wing-Chu', 'Yes', 'Few'],\n",
       "       ['Capoeria', 'Yes', 'Yes']], dtype=object)"
      ]
     },
     "execution_count": 58,
     "metadata": {},
     "output_type": "execute_result"
    }
   ],
   "source": [
    "# imputing missing values with most frequent values\n",
    "imp = SimpleImputer(missing_values='NA', strategy=\"most_frequent\")\n",
    "imputed=imp.fit_transform(df)\n",
    "imputed"
   ]
  },
  {
   "cell_type": "code",
   "execution_count": null,
   "metadata": {},
   "outputs": [],
   "source": [
    "# HOME WORK/COMPETITION:\n",
    "# I will provide you a dataset with missing values both\n",
    "# numerical and categorical.\n",
    "# You should create a data cleaning pipeline and a ML algorithm.\n",
    "# I will write a \"certificate\" for all the people that are able to do it.\n",
    "# I will write a special one for the best result.\n",
    "\n",
    "# PS: all the pipeline should run on a normal PC, not a giant cluster :P"
   ]
  }
 ],
 "metadata": {
  "kernelspec": {
   "display_name": "Python 3",
   "language": "python",
   "name": "python3"
  },
  "language_info": {
   "codemirror_mode": {
    "name": "ipython",
    "version": 3
   },
   "file_extension": ".py",
   "mimetype": "text/x-python",
   "name": "python",
   "nbconvert_exporter": "python",
   "pygments_lexer": "ipython3",
   "version": "3.7.1"
  }
 },
 "nbformat": 4,
 "nbformat_minor": 2
}
