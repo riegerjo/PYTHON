{
 "cells": [
  {
   "cell_type": "markdown",
   "metadata": {},
   "source": [
    "# Python project with Wikipedia Cities\n",
    "This project is about cities. Follow the steps and create your project!"
   ]
  },
  {
   "cell_type": "markdown",
   "metadata": {},
   "source": [
    "Import wikipedia and numpy. If wikipedia is not in your local pc, do install it with \"pip install wikipedia\""
   ]
  },
  {
   "cell_type": "code",
   "execution_count": 109,
   "metadata": {},
   "outputs": [],
   "source": [
    "import wikipedia\n",
    "import numpy as np"
   ]
  },
  {
   "cell_type": "markdown",
   "metadata": {},
   "source": [
    "This is a list of cities. You have to create a function that, given a city, it is able to get you the coordinates of that city. Use wikipedia.page(city).coordinates. <br>\n",
    "Here in the documentation, check how wikipedia.coordinates works. <a href='https://wikipedia.readthedocs.io/en/latest/code.html'>LINK</a>"
   ]
  },
  {
   "cell_type": "code",
   "execution_count": 73,
   "metadata": {},
   "outputs": [],
   "source": [
    "list_of_cities = ['Milan', 'Rome', 'Venice', 'Madrid']"
   ]
  },
  {
   "cell_type": "code",
   "execution_count": 106,
   "metadata": {
    "scrolled": false
   },
   "outputs": [],
   "source": [
    "def get_coordinates_of_cities(city_name):\n",
    "    \"\"\"\n",
    "    This function should return the coordinates of the city that you pass as parameter\n",
    "    \"\"\"\n",
    "    \n",
    "    return (lat, lon)"
   ]
  },
  {
   "cell_type": "markdown",
   "metadata": {},
   "source": [
    "Test your function. When done, create a dictionary (call it dict_coordinates) with KEY=name of the city, VALUE the tuple (lat, lon). The cities we would like are in ```list_of_cities```"
   ]
  },
  {
   "cell_type": "code",
   "execution_count": 107,
   "metadata": {},
   "outputs": [],
   "source": [
    "dict_coordinates = {}\n"
   ]
  },
  {
   "cell_type": "markdown",
   "metadata": {},
   "source": [
    "# Well Done!"
   ]
  },
  {
   "cell_type": "markdown",
   "metadata": {},
   "source": [
    "### Goal: take the content of the pages on Wikipedia of the cities and calculate the length of the page (how many words)"
   ]
  },
  {
   "cell_type": "code",
   "execution_count": 138,
   "metadata": {},
   "outputs": [],
   "source": [
    "def clean_text_from_city(text: str):\n",
    "    text = text.replace('(', '').replace(')', '')\n",
    "    text = text.replace('[', '').replace(']', '')\n",
    "    text = text.replace('\"', '').replace('===', '')\n",
    "    text = text.replace(':', '').replace(';', '').replace('.', '')\n",
    "    return text"
   ]
  },
  {
   "cell_type": "markdown",
   "metadata": {},
   "source": [
    "Create a function able to, given a city_name, get the content of the page (string). Use ```wikipedia.page(city).content```. Create a dict called ```dict_city_pages``` where the KEY is the name of the city, and VALUE is the text of the page (string)"
   ]
  },
  {
   "cell_type": "code",
   "execution_count": 139,
   "metadata": {},
   "outputs": [],
   "source": [
    "def get_city_page_content(city_name):\n",
    "    return "
   ]
  },
  {
   "cell_type": "markdown",
   "metadata": {},
   "source": [
    "Now use the function called ```clean_text_from_city``` to clean the text of each city (use a for loop)"
   ]
  },
  {
   "cell_type": "code",
   "execution_count": 130,
   "metadata": {},
   "outputs": [],
   "source": [
    "dict_city_pages_cleaned = {}\n",
    "for ..."
   ]
  },
  {
   "cell_type": "markdown",
   "metadata": {},
   "source": [
    "## Print number of words of each city and check which is the longest"
   ]
  },
  {
   "cell_type": "code",
   "execution_count": 131,
   "metadata": {
    "scrolled": false
   },
   "outputs": [
    {
     "data": {
      "text/plain": [
       "15873"
      ]
     },
     "execution_count": 131,
     "metadata": {},
     "output_type": "execute_result"
    }
   ],
   "source": []
  },
  {
   "cell_type": "markdown",
   "metadata": {},
   "source": [
    "### Now use```from collections import Counter``` to get the frequency of the words in the text.\n",
    "You can use it like Counter([list of words]). Create a function called ```get_word_frequency```"
   ]
  },
  {
   "cell_type": "code",
   "execution_count": 2,
   "metadata": {},
   "outputs": [],
   "source": [
    "from collections import Counter"
   ]
  },
  {
   "cell_type": "code",
   "execution_count": 3,
   "metadata": {},
   "outputs": [],
   "source": [
    "c = Counter(['apple', 'apple', 'orange'])"
   ]
  }
 ],
 "metadata": {
  "kernelspec": {
   "display_name": "Python 3",
   "language": "python",
   "name": "python3"
  },
  "language_info": {
   "codemirror_mode": {
    "name": "ipython",
    "version": 3
   },
   "file_extension": ".py",
   "mimetype": "text/x-python",
   "name": "python",
   "nbconvert_exporter": "python",
   "pygments_lexer": "ipython3",
   "version": "3.6.5"
  }
 },
 "nbformat": 4,
 "nbformat_minor": 2
}
